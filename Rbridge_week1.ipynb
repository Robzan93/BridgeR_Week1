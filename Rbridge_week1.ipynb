{
 "cells": [
  {
   "cell_type": "code",
   "execution_count": 1,
   "id": "1fbef016",
   "metadata": {},
   "outputs": [
    {
     "data": {
      "text/plain": [
       "479001600"
      ]
     },
     "execution_count": 1,
     "metadata": {},
     "output_type": "execute_result"
    }
   ],
   "source": [
    "# Write a loop that calculates 12-factorial\n",
    "result = 1\n",
    "for i in range(1, 13):\n",
    "    result *= i\n",
    "result\n"
   ]
  },
  {
   "cell_type": "code",
   "execution_count": 2,
   "id": "ed705147",
   "metadata": {},
   "outputs": [
    {
     "data": {
      "text/plain": [
       "array([20, 25, 30, 35, 40, 45, 50])"
      ]
     },
     "execution_count": 2,
     "metadata": {},
     "output_type": "execute_result"
    }
   ],
   "source": [
    "# Show how to create a numeric vector that contains the sequence from 20 to 50 by 5.\n",
    "import numpy as np\n",
    "vector = np.arange(20, 55, 5)\n",
    "vector\n"
   ]
  },
  {
   "cell_type": "code",
   "execution_count": 3,
   "id": "7a824df9",
   "metadata": {},
   "outputs": [
    {
     "name": "stdout",
     "output_type": "stream",
     "text": [
      "Solution 1: -1.0\n",
      "Solution 2: -1.0\n",
      "Solution 1: -1.0\n",
      "Solution 2: -5.0\n",
      "No real solutions exist.\n"
     ]
    }
   ],
   "source": [
    "# Create the function \"quad\" that takes a trio of input numbers a, b, and c and solve the quadratic equation.\n",
    "# The function should print as output the two solutions. Please run and test your answer for (1,2,1), (1,6,5), and (1,1,1).\n",
    "\n",
    "import numpy as np\n",
    "\n",
    "def quad(a, b, c):\n",
    "    # Calculate the discriminant\n",
    "    disc = b**2 - 4*a*c\n",
    "    \n",
    "    # Check if the discriminant is non-negative\n",
    "    if disc >= 0:\n",
    "        # Calculate the two solutions\n",
    "        sol1 = (-b + np.sqrt(disc)) / (2*a)\n",
    "        sol2 = (-b - np.sqrt(disc)) / (2*a)\n",
    "        \n",
    "        # Print the solutions\n",
    "        print(\"Solution 1:\", sol1)\n",
    "        print(\"Solution 2:\", sol2)\n",
    "    else:\n",
    "        print(\"No real solutions exist.\")\n",
    "\n",
    "# Test the quad function with different inputs\n",
    "quad(1, 2, 1)\n",
    "quad(1, 6, 5)\n",
    "quad(1, 1, 1)\n"
   ]
  },
  {
   "cell_type": "code",
   "execution_count": null,
   "id": "051f8912",
   "metadata": {},
   "outputs": [],
   "source": []
  }
 ],
 "metadata": {
  "kernelspec": {
   "display_name": "Python 3 (ipykernel)",
   "language": "python",
   "name": "python3"
  },
  "language_info": {
   "codemirror_mode": {
    "name": "ipython",
    "version": 3
   },
   "file_extension": ".py",
   "mimetype": "text/x-python",
   "name": "python",
   "nbconvert_exporter": "python",
   "pygments_lexer": "ipython3",
   "version": "3.11.3"
  }
 },
 "nbformat": 4,
 "nbformat_minor": 5
}
